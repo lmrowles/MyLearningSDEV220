{
 "cells": [
  {
   "cell_type": "markdown",
   "metadata": {},
   "source": [
    "#### Instructions\n",
    "#### Complete the following steps:\n",
    "##### (NOTE: YOU WILL NEED TO USE VSCode or other text editor for this tutorial)\n",
    "\n",
    "##### Navigate to the following URL: https://tutorial.djangogirls.org/en/ Links to an external site.\n",
    "Complete the following sections of the tutorial.  Make sure that you complete and follow along with each action that the tutorial tells you to do.  Pay attention to what OS/Device you are using, as there are instructions for multiple types of devices / operating systems (Mac/PC/Linux):\n",
    "* Django installation\n",
    "* Your first Django Project\n",
    "* Django Models\n",
    "* Django admin"
   ]
  }
 ],
 "metadata": {
  "kernelspec": {
   "display_name": "Python 3.10.6 64-bit",
   "language": "python",
   "name": "python3"
  },
  "language_info": {
   "name": "python",
   "version": "3.10.6"
  },
  "orig_nbformat": 4,
  "vscode": {
   "interpreter": {
    "hash": "0617028f9d57f79150ed036b735a2ac068b4b64de1db0f83cbd37abf0edc1c31"
   }
  }
 },
 "nbformat": 4,
 "nbformat_minor": 2
}
