{
 "cells": [
  {
   "cell_type": "markdown",
   "metadata": {},
   "source": [
    "In your text book, navigate to the end of Chapter 11 and 16 to the section titled \"Things to Do\"\n",
    "Complete the following sections in your Jupyter Notebook:\n",
    "> * 11.1\n",
    "> * 11.2\n",
    "> * 16.8\n",
    "* Make sure both answer the prompts(if given) and complete the Python interactive interpreter piece for each question"
   ]
  }
 ],
 "metadata": {
  "kernelspec": {
   "display_name": "Python 3.10.6 64-bit",
   "language": "python",
   "name": "python3"
  },
  "language_info": {
   "name": "python",
   "version": "3.10.6"
  },
  "orig_nbformat": 4,
  "vscode": {
   "interpreter": {
    "hash": "0617028f9d57f79150ed036b735a2ac068b4b64de1db0f83cbd37abf0edc1c31"
   }
  }
 },
 "nbformat": 4,
 "nbformat_minor": 2
}
