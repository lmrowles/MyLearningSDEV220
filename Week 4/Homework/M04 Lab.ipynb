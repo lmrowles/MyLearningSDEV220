{
 "cells": [
  {
   "cell_type": "markdown",
   "metadata": {},
   "source": [
    "### Prerequisite:\n",
    "Navigate to the following URL, and watch the video on APIs and how to develop them in Python.  Complete the same steps and following along with the tutorial using VSCode:\n",
    "\n",
    "* https://www.youtube.com/watch?v=qbLc5a9jdXo&ab_channel=CalebCurry Links to an external site.\n",
    "\n",
    "### Instructions\n",
    "### Complete the following steps:\n",
    "After watching the video, create a CRUD API for a Book instead of a Drink in the video example above.  The Book model should have the following parameters:\n",
    "* id\n",
    "* book_name\n",
    "* author\n",
    "* publisher"
   ]
  }
 ],
 "metadata": {
  "kernelspec": {
   "display_name": "Python 3.10.6 64-bit",
   "language": "python",
   "name": "python3"
  },
  "language_info": {
   "name": "python",
   "version": "3.10.6"
  },
  "orig_nbformat": 4,
  "vscode": {
   "interpreter": {
    "hash": "0617028f9d57f79150ed036b735a2ac068b4b64de1db0f83cbd37abf0edc1c31"
   }
  }
 },
 "nbformat": 4,
 "nbformat_minor": 2
}
