{
 "cells": [
  {
   "cell_type": "markdown",
   "metadata": {},
   "source": [
    "##### Create a GitLab account at https://about.gitlab.com/\n",
    "\n",
    "##### You will watch the following videos and perform the activities:\n",
    "\n",
    "##### https://www.youtube.com/watch?v=jtBVppyfDbE&ab_channel=TheDigitalLife Links to an external site.\n",
    "\n",
    "##### Instructions\n",
    "##### Complete the following steps:\n",
    "* Navigate to the following link to get familiar with Gitlab and deployment - https://codebabel.com/ci-gitlabci-docker/Links to an external site.\n",
    "* When you get to editing the gitlab-ci.yml you may need to replace this line:\n",
    "> * - docker login -u gitlab-ci-token -p $CI_BUILD_TOKEN registry.gitlab.com Links to an external site.\n",
    "* With this line\n",
    "> * docker login -u $CI_REGISTRY_USER -p $CI_REGISTRY_PASSWORD $CI_REGISTRY"
   ]
  }
 ],
 "metadata": {
  "language_info": {
   "name": "python"
  },
  "orig_nbformat": 4
 },
 "nbformat": 4,
 "nbformat_minor": 2
}
