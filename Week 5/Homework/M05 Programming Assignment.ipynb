{
 "cells": [
  {
   "cell_type": "markdown",
   "metadata": {},
   "source": [
    "##### Navigate to the following URL - https://realpython.com/python-testing/#toc Links to an external site.\n",
    "##### Complete the following sections (and their sub-sections) in your Jupyter Notebook to perform a unit test:\n",
    "* Testing Your Code\n",
    "* Writing Your First Test\n",
    "* Executing Your First Test\n",
    "##### **NOTE: The unittest class is for regular .py scripts and will not work properly in Jupyter Notebook. Follow the tutorial in the normal IDE (VSCode).**\n",
    "\n",
    "##### At the end of the notebook, describe the test results in your own words.  What do the test results mean?"
   ]
  }
 ],
 "metadata": {
  "language_info": {
   "name": "python"
  },
  "orig_nbformat": 4
 },
 "nbformat": 4,
 "nbformat_minor": 2
}
