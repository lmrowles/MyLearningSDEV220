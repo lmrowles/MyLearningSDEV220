{
 "cells": [
  {
   "cell_type": "markdown",
   "metadata": {},
   "source": [
    "#### Prerequisite:\n",
    "##### Navigate to the following URL, and watch the video on Panda and how it utilizes data science techniques in Python.  Complete the same steps and following along with the tutorial using Jupyter. (NOTE: There is a setup portion in this video series... you probably have already set up most of your packages up, but this is there for reference and how to import a Jupyter Notebook)\n",
    "\n",
    "* https://ivytech.udemy.com/learning-paths/2933430/ Links to an external site.\n",
    "\n",
    "#### Instructions\n",
    "##### Complete the following steps:\n",
    "* When you get to Section 7, complete the SF Salary Exercise in you Jupyter Notebook"
   ]
  }
 ],
 "metadata": {
  "language_info": {
   "name": "python"
  },
  "orig_nbformat": 4
 },
 "nbformat": 4,
 "nbformat_minor": 2
}
