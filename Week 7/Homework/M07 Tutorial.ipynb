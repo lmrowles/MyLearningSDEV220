{
 "cells": [
  {
   "cell_type": "markdown",
   "metadata": {},
   "source": [
    "#### Instructions\n",
    "##### Complete the following steps:\n",
    "###### (NOTE: YOU WILL NEED TO USE VSCode or other text editor for this tutorial)\n",
    "\n",
    "##### Navigate to the following URL: https://tutorial.djangogirls.org/en/Links to an external site.\n",
    "Complete the following sections of the tutorial.  Make sure that you complete and follow along with each action that the tutorial tells you to do.  Pay attention to what OS/Device you are using, as there are instructions for multiple types of devices / operating systems (Mac/PC/Linux):\n",
    "* Extend You Application\n",
    "* Django Forms\n",
    "##### You will also need to complete the following sections in the extension to the Django Tutorials. The URL to this can be found here - https://tutorial-extensions.djangogirls.org/enLinks to an external site.\n",
    "\n",
    "##### Complete the following sections:\n",
    "* Homework - Adding Security to Your Website\n",
    "* Domain\n",
    "* Deploy to Heroku\n",
    "* Homework: Add more to your website\n",
    "* Homework: create comment model"
   ]
  }
 ],
 "metadata": {
  "language_info": {
   "name": "python"
  },
  "orig_nbformat": 4
 },
 "nbformat": 4,
 "nbformat_minor": 2
}
