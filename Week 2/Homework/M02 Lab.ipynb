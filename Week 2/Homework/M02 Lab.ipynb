{
 "cells": [
  {
   "cell_type": "markdown",
   "metadata": {},
   "source": [
    "Write a Python app that will accept student names and GPAs and test if the student qualifies for either the Dean's List or the Honor Roll. Your app will:\n",
    "* ask for and accept a student's last name.\n",
    "* quit processing student records if the last name entered is 'ZZZ'.\n",
    "* ask for and accept a student's first name.\n",
    "* ask for and accept the student's GPA as a float.\n",
    "* test if the student's GPA is 3.5 or greater and, if so, print a message saying that the student has made the Dean's List.\n",
    "* test if the student's GPA is 3.25 or greater and, if so, print a message saying that the studnet has made the Honor Roll.\n",
    "Test your app using at least five students.\n",
    "* * Your header comments need to contain\n",
    "* * * Your name\n",
    "* * * The file name for your app\n",
    "* * * A brief description of what your app will do"
   ]
  }
 ],
 "metadata": {
  "kernelspec": {
   "display_name": "Python 3.10.6 64-bit",
   "language": "python",
   "name": "python3"
  },
  "language_info": {
   "name": "python",
   "version": "3.10.6"
  },
  "orig_nbformat": 4,
  "vscode": {
   "interpreter": {
    "hash": "0617028f9d57f79150ed036b735a2ac068b4b64de1db0f83cbd37abf0edc1c31"
   }
  }
 },
 "nbformat": 4,
 "nbformat_minor": 2
}
