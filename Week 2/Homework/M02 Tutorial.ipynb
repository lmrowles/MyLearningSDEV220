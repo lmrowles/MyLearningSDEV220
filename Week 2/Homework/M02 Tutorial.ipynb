{
 "cells": [
  {
   "cell_type": "markdown",
   "metadata": {},
   "source": [
    "Navigate to the following URL: https://tutorial.djangogirls.org/en/Links to an external site.\n",
    "* Complete the following sections of the tutorial.  Make sure that you complete and follow along with each action that the tutorial tells you to do.  Pay attention to what OS/Device you are using, as there are instructions for multiple types of devices / operating systems (Mac/PC/Linux):\n",
    "> * Introduction\n",
    "> * How the internet works\n",
    "> * Introduction to command line\n",
    "> * What is Django?"
   ]
  },
  {
   "cell_type": "markdown",
   "metadata": {},
   "source": [
    "Using your knowledge gained from the tutorial do the following:\n",
    "\n",
    "* Create a new folder on your Desktop or in any directory called M02_CL_Test (you do not have to do this via the command line)\n",
    "* Using the command line do the following (make sure that you can scroll through the commands, or keep the commands you use all on one screen):\n",
    "> * Create a new folder in the directory called myfolder\n",
    "> * Navigate to myfolder and create a new txt file call mytext1.txt\n",
    "> * Create another file called moveme.txt\n",
    "> * Change the current directory to the parent directory and create a text file called parenttext.txt\n",
    "> * Finally move the moveme.txt file from the myfolder directory to it's parent directory\n",
    "* Take a screenshot of the commands that you used to complete this assignment"
   ]
  }
 ],
 "metadata": {
  "kernelspec": {
   "display_name": "Python 3.10.6 64-bit",
   "language": "python",
   "name": "python3"
  },
  "language_info": {
   "name": "python",
   "version": "3.10.6"
  },
  "orig_nbformat": 4,
  "vscode": {
   "interpreter": {
    "hash": "0617028f9d57f79150ed036b735a2ac068b4b64de1db0f83cbd37abf0edc1c31"
   }
  }
 },
 "nbformat": 4,
 "nbformat_minor": 2
}
