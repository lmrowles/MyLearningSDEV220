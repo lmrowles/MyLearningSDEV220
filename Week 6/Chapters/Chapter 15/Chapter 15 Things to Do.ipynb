{
 "cells": [
  {
   "cell_type": "markdown",
   "metadata": {},
   "source": [
    "15.1 Use multiprocessing to create three separate processes. Make each one wait a random number of seconds between zero and one, print the current time, and then exit."
   ]
  },
  {
   "cell_type": "code",
   "execution_count": 11,
   "metadata": {},
   "outputs": [
    {
     "name": "stdout",
     "output_type": "stream",
     "text": [
      "Starting process at 2022-10-01 21:29:57.454186\n",
      "Waiting for 0 seconds to finish task\n",
      "Task finished at  2022-10-01 21:29:57.455196\n",
      "Starting process at 2022-10-01 21:29:57.456193\n",
      "Waiting for 1 seconds to finish task\n",
      "Task finished at  2022-10-01 21:29:58.459084\n",
      "Starting process at 2022-10-01 21:29:58.459084\n",
      "Waiting for 0 seconds to finish task\n",
      "Task finished at  2022-10-01 21:29:58.460084\n"
     ]
    }
   ],
   "source": [
    "import multiprocessing as mt \n",
    "import time as tm \n",
    "import datetime as dt \n",
    "import random as rd\n",
    "\n",
    "def process():\n",
    "    delay = rd.randint(0, 1)\n",
    "    print(\"Starting process at \" + str(dt.datetime.now()))\n",
    "    print(\"Waiting for \" + str(delay) + \" seconds to finish task\")\n",
    "    tm.sleep(delay)\n",
    "    print(\"Task finished at \", str(dt.datetime.now()))\n",
    "\n",
    "process1 = process()\n",
    "process2 = process()\n",
    "process3 = process()\n",
    "\n",
    "if __name__==\"__main\":\n",
    "    p1 = mt.Process(target=process1)\n",
    "    p2 = mt.Process(target=process2)\n",
    "    p3 = mt.Process(target=process3)\n",
    "\n",
    "    p1.start()\n",
    "    p2.start()\n",
    "    p3.start()\n",
    "\n",
    "    p1.join()\n",
    "    p2.join()\n",
    "    p3.join()\n",
    "\n",
    "    p1.terminate() \n",
    "    p2.terminate()\n",
    "    p3.terminate()\n"
   ]
  }
 ],
 "metadata": {
  "kernelspec": {
   "display_name": "Python 3.10.6 64-bit",
   "language": "python",
   "name": "python3"
  },
  "language_info": {
   "codemirror_mode": {
    "name": "ipython",
    "version": 3
   },
   "file_extension": ".py",
   "mimetype": "text/x-python",
   "name": "python",
   "nbconvert_exporter": "python",
   "pygments_lexer": "ipython3",
   "version": "3.10.6"
  },
  "orig_nbformat": 4,
  "vscode": {
   "interpreter": {
    "hash": "0617028f9d57f79150ed036b735a2ac068b4b64de1db0f83cbd37abf0edc1c31"
   }
  }
 },
 "nbformat": 4,
 "nbformat_minor": 2
}
