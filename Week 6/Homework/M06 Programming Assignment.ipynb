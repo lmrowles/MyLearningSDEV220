{
 "cells": [
  {
   "cell_type": "markdown",
   "metadata": {},
   "source": [
    "##### In your textbook, navigate to the end of Chapters 11 and 16 to the section titled \"Things to Do\"\n",
    "##### Complete the following sections in your Jupyter Notebook:\n",
    "* 13.1\n",
    "* 13.2\n",
    "* 13.3\n",
    "* 15.1\n",
    "##### Make sure both answer the prompts(if given) and complete the Python interactive interpreter piece for each question\n",
    "##### You can do this in Jupyter notebooks by inserting code to complete the interactive interpreter piece and adding markdown to answer the prompts (if given) for each question"
   ]
  },
  {
   "cell_type": "markdown",
   "metadata": {},
   "source": [
    "13.1 Write the current date as a string to the text file today.txt."
   ]
  },
  {
   "cell_type": "code",
   "execution_count": 1,
   "metadata": {},
   "outputs": [],
   "source": [
    "import datetime \n",
    "\n",
    "with open(\"today.txt\", 'a') as file:\n",
    "    file.write('%s' % (datetime.datetime.now()))"
   ]
  },
  {
   "cell_type": "markdown",
   "metadata": {},
   "source": [
    "13.2 Read the text file today.txt into the string today_string."
   ]
  },
  {
   "cell_type": "code",
   "execution_count": 2,
   "metadata": {},
   "outputs": [
    {
     "name": "stdout",
     "output_type": "stream",
     "text": [
      "2022-10-01 19:04:10.300321\n"
     ]
    }
   ],
   "source": [
    "f = open(\"today.txt\", 'r') \n",
    "today_string = f.read() \n",
    "print(today_string)"
   ]
  },
  {
   "cell_type": "markdown",
   "metadata": {},
   "source": [
    "13.3 Parse the date from today_string."
   ]
  },
  {
   "cell_type": "code",
   "execution_count": 3,
   "metadata": {},
   "outputs": [
    {
     "name": "stdout",
     "output_type": "stream",
     "text": [
      "2022-10-01\n"
     ]
    }
   ],
   "source": [
    "today_date = datetime.datetime.strptime(today_string, '%Y-%m-%d %H:%M:%S.%f')\n",
    "\n",
    "print(today_date.date())"
   ]
  },
  {
   "cell_type": "markdown",
   "metadata": {},
   "source": [
    "15.1 Use multiprocessing to create three separate processes. Make each one wait a random number of seconds between zero and one, print the current time, and then exit."
   ]
  },
  {
   "cell_type": "code",
   "execution_count": 6,
   "metadata": {},
   "outputs": [
    {
     "name": "stdout",
     "output_type": "stream",
     "text": [
      "Starting process at 2022-10-01 21:31:45.749936\n",
      "Waiting for 1 seconds to finish task\n",
      "Task finished at  2022-10-01 21:31:46.760398\n",
      "Starting process at 2022-10-01 21:31:46.760398\n",
      "Waiting for 0 seconds to finish task\n",
      "Task finished at  2022-10-01 21:31:46.777407\n",
      "Starting process at 2022-10-01 21:31:46.777407\n",
      "Waiting for 1 seconds to finish task\n",
      "Task finished at  2022-10-01 21:31:47.828247\n"
     ]
    }
   ],
   "source": [
    "import multiprocessing as mt \n",
    "import time as tm \n",
    "import datetime as dt \n",
    "import random as rd\n",
    "\n",
    "def process():\n",
    "    delay = rd.randint(0, 1)\n",
    "    print(\"Starting process at \" + str(dt.datetime.now()))\n",
    "    print(\"Waiting for \" + str(delay) + \" seconds to finish task\")\n",
    "    tm.sleep(delay)\n",
    "    print(\"Task finished at \", str(dt.datetime.now()))\n",
    "\n",
    "process1 = process()\n",
    "process2 = process()\n",
    "process3 = process()\n",
    "\n",
    "if __name__==\"__main\":\n",
    "    p1 = mt.Process(target=process1)\n",
    "    p2 = mt.Process(target=process2)\n",
    "    p3 = mt.Process(target=process3)\n",
    "\n",
    "    p1.start()\n",
    "    p2.start()\n",
    "    p3.start()\n",
    "\n",
    "    p1.join()\n",
    "    p2.join()\n",
    "    p3.join()\n",
    "\n",
    "    p1.terminate() \n",
    "    p2.terminate()\n",
    "    p3.terminate()\n"
   ]
  }
 ],
 "metadata": {
  "kernelspec": {
   "display_name": "Python 3.10.6 64-bit",
   "language": "python",
   "name": "python3"
  },
  "language_info": {
   "codemirror_mode": {
    "name": "ipython",
    "version": 3
   },
   "file_extension": ".py",
   "mimetype": "text/x-python",
   "name": "python",
   "nbconvert_exporter": "python",
   "pygments_lexer": "ipython3",
   "version": "3.10.6"
  },
  "orig_nbformat": 4,
  "vscode": {
   "interpreter": {
    "hash": "0617028f9d57f79150ed036b735a2ac068b4b64de1db0f83cbd37abf0edc1c31"
   }
  }
 },
 "nbformat": 4,
 "nbformat_minor": 2
}
