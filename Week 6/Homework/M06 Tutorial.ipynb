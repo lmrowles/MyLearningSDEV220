{
 "cells": [
  {
   "cell_type": "markdown",
   "metadata": {},
   "source": [
    "##### Instructions\n",
    "##### Complete the following steps:\n",
    "###### (NOTE: YOU WILL NEED TO USE VSCode or other text editor for this tutorial)\n",
    "\n",
    "Navigate to the following URL: https://tutorial.djangogirls.org/en/Links to an external site.\n",
    "* Complete the following sections of the tutorial.  Make sure that you complete and follow along with each action that the tutorial tells you to do.  Pay attention to what OS/Device you are using, as there are instructions for multiple types of devices / operating systems (Mac/PC/Linux):\n",
    "> * Dynamic Data in templates\n",
    "> * Django Templates\n",
    "> * CSS - make it pretty\n",
    "> * Template Extending"
   ]
  }
 ],
 "metadata": {
  "language_info": {
   "name": "python"
  },
  "orig_nbformat": 4
 },
 "nbformat": 4,
 "nbformat_minor": 2
}
