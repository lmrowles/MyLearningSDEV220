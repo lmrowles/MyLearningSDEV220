{
 "cells": [
  {
   "cell_type": "markdown",
   "metadata": {},
   "source": [
    "* Navigate to the following URL :https://ivytech.udemy.com/learning-paths/2902624/ Links to an external site.\n",
    "* You will need to sign in to Udemy Business after clicking on this link.  This is a service provided as part of your enrollment at Ivy Tech.  You should have received an email from Udemy allowing to create an account (the email was sent to your Ivy Tech email address).  You may need to search your inbox for \"Udemy\" in order to find the email.  If you are having trouble logging in or creating an account, please contact your instructor\n",
    "* Following along with the tutorial, complete each step/video to see the various strengths, nuances, and paradigms in functional and object oriented programming.\n",
    "* There will be two exercises that you will need to turn in:\n",
    "> * 130. Exercise: Pets Everywhere\n",
    "> * 146. Exercise: Lambda Expressions"
   ]
  }
 ],
 "metadata": {
  "kernelspec": {
   "display_name": "Python 3.10.6 64-bit",
   "language": "python",
   "name": "python3"
  },
  "language_info": {
   "name": "python",
   "version": "3.10.6"
  },
  "orig_nbformat": 4,
  "vscode": {
   "interpreter": {
    "hash": "0617028f9d57f79150ed036b735a2ac068b4b64de1db0f83cbd37abf0edc1c31"
   }
  }
 },
 "nbformat": 4,
 "nbformat_minor": 2
}
