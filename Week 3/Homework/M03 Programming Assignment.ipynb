{
 "cells": [
  {
   "cell_type": "markdown",
   "metadata": {},
   "source": [
    "* In your text book, navigate to the end of Chapter 7 to the section titled \"Things to Do\"\n",
    "* Complete the following sections in your Jupyter Notebook:\n",
    "> * 7.4\n",
    "> * 7.5\n",
    "> * 7.6\n",
    "> * 7.7\n",
    "> * 9.1\n",
    "> * 9.2\n",
    "* Make sure both answer the prompts(if given) and complete the Python interactive interpreter piece for each question\n",
    "* You can do this in Jupyter notebooks by inserting code to complete the interactive interpreter piece and adding markdown to answer the prompts (if given) for each question"
   ]
  }
 ],
 "metadata": {
  "kernelspec": {
   "display_name": "Python 3.10.6 64-bit",
   "language": "python",
   "name": "python3"
  },
  "language_info": {
   "name": "python",
   "version": "3.10.6"
  },
  "orig_nbformat": 4,
  "vscode": {
   "interpreter": {
    "hash": "0617028f9d57f79150ed036b735a2ac068b4b64de1db0f83cbd37abf0edc1c31"
   }
  }
 },
 "nbformat": 4,
 "nbformat_minor": 2
}
