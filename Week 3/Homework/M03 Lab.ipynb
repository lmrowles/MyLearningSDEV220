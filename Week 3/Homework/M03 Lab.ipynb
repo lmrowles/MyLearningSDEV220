{
 "cells": [
  {
   "cell_type": "markdown",
   "metadata": {},
   "source": [
    "* Write a Python app that has the following classes:\n",
    "* A super class called Vehicle, which contains an attribute for vehicle type, such as car, truck, plane, boat, or a broomstick.\n",
    "* A class called Automobile which will inherit the attributes from Vehicle and also contain the following attributes:\n",
    "> * year\n",
    "> * make\n",
    "> * model\n",
    "> * doors (2 or 4)\n",
    "> * roof (solid or sun roof).\n",
    "* Write an app that will accept user input for a car. The app will store \"car\" into the vehicle type in your Vehicle super class. \n",
    "* The app will then ask the user for the year, make, model, doors, and type of roof and store thdata in the attributes above.\n",
    "* The app will then output the data in an easy-to-read and understandable format, such as this:\n",
    "  * Vehicle type: car\n",
    "  * Year: 2022\n",
    "  * Make: Toyota\n",
    "  * Model: Corolla\n",
    "  * Number of doors: 4\n",
    "  * Type of roof: sun roof"
   ]
  }
 ],
 "metadata": {
  "language_info": {
   "name": "python"
  },
  "orig_nbformat": 4
 },
 "nbformat": 4,
 "nbformat_minor": 2
}
